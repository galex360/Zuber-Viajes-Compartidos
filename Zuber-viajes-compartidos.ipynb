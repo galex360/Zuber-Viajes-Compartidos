{
 "cells": [
  {
   "cell_type": "markdown",
   "metadata": {},
   "source": [
    "El presente proyecto analiza datos relacionados con el servicio de taxis en Chicago durante noviembre de 2017, utilizando un enfoque de ciencia de datos para extraer patrones significativos y tomar decisiones informadas.\n",
    "\n",
    "**Metodología**\n",
    "\n",
    "**Importación y Preparación de los Datos:**\n",
    "\n",
    "Los datos fueron obtenidos de bases relacionales y organizados en tres conjuntos principales:\n",
    "\n",
    "- Información sobre el número de viajes por compañía.\n",
    "- Promedio de viajes por barrio.\n",
    "- Condiciones meteorológicas y duración de viajes en días específicos.\n",
    "- Se procesaron para garantizar calidad, corrigiendo valores atípicos, y ajustando formatos para facilitar el análisis.\n",
    "\n",
    "**Análisis Exploratorio de Datos (EDA):**\n",
    "\n",
    "Se realizaron estudios detallados para comprender la distribución de los datos y su comportamiento. Esto incluyó:\n",
    " \n",
    "- Identificar las compañías líderes en términos de viajes.\n",
    "- Examinar los barrios con mayor promedio de finalizaciones de viaje.\n",
    "- Explorar tendencias relacionadas con condiciones climáticas adversas.\n",
    "\n",
    "**Procesamiento de Valores Atípicos:**\n",
    "\n",
    "Se identificaron y eliminaron registros anómalos, como viajes con duración de cero segundos, para mejorar la calidad del análisis. Adicionalmente, se ajustaron valores para reducir el impacto de sesgos extremos.\n",
    "\n",
    "**Pruebas de Hipótesis:**\n",
    "\n",
    "Se plantearon hipótesis relacionadas con la duración promedio de viajes en condiciones climáticas adversas. Utilizando pruebas estadísticas como el test T-student, se evaluaron las diferencias en duración de trayectos en días lluviosos y días con clima favorable.\n",
    "\n",
    "**Conclusiones y Recomendaciones:**\n",
    "\n",
    "Los resultados del análisis se sintetizaron para proporcionar insights relevantes. Se sugirieron estrategias para optimizar servicios de transporte, como la implementación de ofertas específicas en días lluviosos y la reorientación de recursos hacia áreas con mayor demanda."
   ]
  },
  {
   "cell_type": "markdown",
   "metadata": {},
   "source": [
    "## Importe de Datos"
   ]
  },
  {
   "cell_type": "code",
   "execution_count": null,
   "metadata": {},
   "outputs": [],
   "source": [
    "import pandas as pd \n",
    "import matplotlib.pyplot as plt\n",
    "import seaborn as sns\n",
    "import math \n",
    "import numpy as np\n",
    "from scipy import stats as st\n",
    "from scipy.stats import shapiro, normaltest\n",
    "from scipy.stats import levene, ttest_ind\n",
    "from scipy.stats import ks_2samp"
   ]
  },
  {
   "cell_type": "code",
   "execution_count": null,
   "metadata": {},
   "outputs": [
    {
     "data": {
      "text/html": [
       "<div>\n",
       "<style scoped>\n",
       "    .dataframe tbody tr th:only-of-type {\n",
       "        vertical-align: middle;\n",
       "    }\n",
       "\n",
       "    .dataframe tbody tr th {\n",
       "        vertical-align: top;\n",
       "    }\n",
       "\n",
       "    .dataframe thead th {\n",
       "        text-align: right;\n",
       "    }\n",
       "</style>\n",
       "<table border=\"1\" class=\"dataframe\">\n",
       "  <thead>\n",
       "    <tr style=\"text-align: right;\">\n",
       "      <th></th>\n",
       "      <th>company_name</th>\n",
       "      <th>trips_amount</th>\n",
       "    </tr>\n",
       "  </thead>\n",
       "  <tbody>\n",
       "    <tr>\n",
       "      <th>16</th>\n",
       "      <td>Blue Diamond</td>\n",
       "      <td>2070</td>\n",
       "    </tr>\n",
       "    <tr>\n",
       "      <th>37</th>\n",
       "      <td>1469 - 64126 Omar Jada</td>\n",
       "      <td>36</td>\n",
       "    </tr>\n",
       "    <tr>\n",
       "      <th>29</th>\n",
       "      <td>303 Taxi</td>\n",
       "      <td>250</td>\n",
       "    </tr>\n",
       "    <tr>\n",
       "      <th>21</th>\n",
       "      <td>American United</td>\n",
       "      <td>1404</td>\n",
       "    </tr>\n",
       "    <tr>\n",
       "      <th>33</th>\n",
       "      <td>Metro Jet Taxi A</td>\n",
       "      <td>146</td>\n",
       "    </tr>\n",
       "    <tr>\n",
       "      <th>41</th>\n",
       "      <td>Chicago Star Taxicab</td>\n",
       "      <td>29</td>\n",
       "    </tr>\n",
       "    <tr>\n",
       "      <th>3</th>\n",
       "      <td>Yellow Cab</td>\n",
       "      <td>9888</td>\n",
       "    </tr>\n",
       "    <tr>\n",
       "      <th>2</th>\n",
       "      <td>Medallion Leasing</td>\n",
       "      <td>10367</td>\n",
       "    </tr>\n",
       "    <tr>\n",
       "      <th>61</th>\n",
       "      <td>5874 - 73628 Sergey Cab Corp.</td>\n",
       "      <td>5</td>\n",
       "    </tr>\n",
       "    <tr>\n",
       "      <th>32</th>\n",
       "      <td>Leonard Cab Co</td>\n",
       "      <td>147</td>\n",
       "    </tr>\n",
       "  </tbody>\n",
       "</table>\n",
       "</div>"
      ],
      "text/plain": [
       "                     company_name  trips_amount\n",
       "16                   Blue Diamond          2070\n",
       "37         1469 - 64126 Omar Jada            36\n",
       "29                       303 Taxi           250\n",
       "21                American United          1404\n",
       "33               Metro Jet Taxi A           146\n",
       "41           Chicago Star Taxicab            29\n",
       "3                      Yellow Cab          9888\n",
       "2               Medallion Leasing         10367\n",
       "61  5874 - 73628 Sergey Cab Corp.             5\n",
       "32                 Leonard Cab Co           147"
      ]
     },
     "metadata": {},
     "output_type": "display_data"
    },
    {
     "data": {
      "text/html": [
       "<div>\n",
       "<style scoped>\n",
       "    .dataframe tbody tr th:only-of-type {\n",
       "        vertical-align: middle;\n",
       "    }\n",
       "\n",
       "    .dataframe tbody tr th {\n",
       "        vertical-align: top;\n",
       "    }\n",
       "\n",
       "    .dataframe thead th {\n",
       "        text-align: right;\n",
       "    }\n",
       "</style>\n",
       "<table border=\"1\" class=\"dataframe\">\n",
       "  <thead>\n",
       "    <tr style=\"text-align: right;\">\n",
       "      <th></th>\n",
       "      <th>dropoff_location_name</th>\n",
       "      <th>average_trips</th>\n",
       "    </tr>\n",
       "  </thead>\n",
       "  <tbody>\n",
       "    <tr>\n",
       "      <th>30</th>\n",
       "      <td>United Center</td>\n",
       "      <td>178.900000</td>\n",
       "    </tr>\n",
       "    <tr>\n",
       "      <th>42</th>\n",
       "      <td>Garfield Park</td>\n",
       "      <td>65.766667</td>\n",
       "    </tr>\n",
       "    <tr>\n",
       "      <th>15</th>\n",
       "      <td>Garfield Ridge</td>\n",
       "      <td>745.400000</td>\n",
       "    </tr>\n",
       "    <tr>\n",
       "      <th>89</th>\n",
       "      <td>Mount Greenwood</td>\n",
       "      <td>3.137931</td>\n",
       "    </tr>\n",
       "    <tr>\n",
       "      <th>93</th>\n",
       "      <td>Riverdale</td>\n",
       "      <td>1.800000</td>\n",
       "    </tr>\n",
       "    <tr>\n",
       "      <th>45</th>\n",
       "      <td>Boystown</td>\n",
       "      <td>53.966667</td>\n",
       "    </tr>\n",
       "    <tr>\n",
       "      <th>41</th>\n",
       "      <td>North Park</td>\n",
       "      <td>67.833333</td>\n",
       "    </tr>\n",
       "    <tr>\n",
       "      <th>72</th>\n",
       "      <td>South Chicago</td>\n",
       "      <td>13.000000</td>\n",
       "    </tr>\n",
       "    <tr>\n",
       "      <th>63</th>\n",
       "      <td>Andersonville</td>\n",
       "      <td>16.866667</td>\n",
       "    </tr>\n",
       "    <tr>\n",
       "      <th>34</th>\n",
       "      <td>Humboldt Park</td>\n",
       "      <td>97.866667</td>\n",
       "    </tr>\n",
       "  </tbody>\n",
       "</table>\n",
       "</div>"
      ],
      "text/plain": [
       "   dropoff_location_name  average_trips\n",
       "30         United Center     178.900000\n",
       "42         Garfield Park      65.766667\n",
       "15        Garfield Ridge     745.400000\n",
       "89       Mount Greenwood       3.137931\n",
       "93             Riverdale       1.800000\n",
       "45              Boystown      53.966667\n",
       "41            North Park      67.833333\n",
       "72         South Chicago      13.000000\n",
       "63         Andersonville      16.866667\n",
       "34         Humboldt Park      97.866667"
      ]
     },
     "metadata": {},
     "output_type": "display_data"
    },
    {
     "data": {
      "text/html": [
       "<div>\n",
       "<style scoped>\n",
       "    .dataframe tbody tr th:only-of-type {\n",
       "        vertical-align: middle;\n",
       "    }\n",
       "\n",
       "    .dataframe tbody tr th {\n",
       "        vertical-align: top;\n",
       "    }\n",
       "\n",
       "    .dataframe thead th {\n",
       "        text-align: right;\n",
       "    }\n",
       "</style>\n",
       "<table border=\"1\" class=\"dataframe\">\n",
       "  <thead>\n",
       "    <tr style=\"text-align: right;\">\n",
       "      <th></th>\n",
       "      <th>start_ts</th>\n",
       "      <th>weather_conditions</th>\n",
       "      <th>duration_seconds</th>\n",
       "    </tr>\n",
       "  </thead>\n",
       "  <tbody>\n",
       "    <tr>\n",
       "      <th>754</th>\n",
       "      <td>2017-11-18 15:00:00</td>\n",
       "      <td>Good</td>\n",
       "      <td>3240.0</td>\n",
       "    </tr>\n",
       "    <tr>\n",
       "      <th>978</th>\n",
       "      <td>2017-11-18 08:00:00</td>\n",
       "      <td>Bad</td>\n",
       "      <td>1620.0</td>\n",
       "    </tr>\n",
       "    <tr>\n",
       "      <th>877</th>\n",
       "      <td>2017-11-18 06:00:00</td>\n",
       "      <td>Good</td>\n",
       "      <td>1520.0</td>\n",
       "    </tr>\n",
       "    <tr>\n",
       "      <th>955</th>\n",
       "      <td>2017-11-04 18:00:00</td>\n",
       "      <td>Bad</td>\n",
       "      <td>1775.0</td>\n",
       "    </tr>\n",
       "    <tr>\n",
       "      <th>667</th>\n",
       "      <td>2017-11-11 13:00:00</td>\n",
       "      <td>Good</td>\n",
       "      <td>2040.0</td>\n",
       "    </tr>\n",
       "    <tr>\n",
       "      <th>698</th>\n",
       "      <td>2017-11-11 10:00:00</td>\n",
       "      <td>Good</td>\n",
       "      <td>1920.0</td>\n",
       "    </tr>\n",
       "    <tr>\n",
       "      <th>426</th>\n",
       "      <td>2017-11-11 07:00:00</td>\n",
       "      <td>Good</td>\n",
       "      <td>1443.0</td>\n",
       "    </tr>\n",
       "    <tr>\n",
       "      <th>21</th>\n",
       "      <td>2017-11-11 04:00:00</td>\n",
       "      <td>Good</td>\n",
       "      <td>1260.0</td>\n",
       "    </tr>\n",
       "    <tr>\n",
       "      <th>441</th>\n",
       "      <td>2017-11-11 13:00:00</td>\n",
       "      <td>Good</td>\n",
       "      <td>2091.0</td>\n",
       "    </tr>\n",
       "    <tr>\n",
       "      <th>365</th>\n",
       "      <td>2017-11-04 12:00:00</td>\n",
       "      <td>Good</td>\n",
       "      <td>2761.0</td>\n",
       "    </tr>\n",
       "  </tbody>\n",
       "</table>\n",
       "</div>"
      ],
      "text/plain": [
       "                start_ts weather_conditions  duration_seconds\n",
       "754  2017-11-18 15:00:00               Good            3240.0\n",
       "978  2017-11-18 08:00:00                Bad            1620.0\n",
       "877  2017-11-18 06:00:00               Good            1520.0\n",
       "955  2017-11-04 18:00:00                Bad            1775.0\n",
       "667  2017-11-11 13:00:00               Good            2040.0\n",
       "698  2017-11-11 10:00:00               Good            1920.0\n",
       "426  2017-11-11 07:00:00               Good            1443.0\n",
       "21   2017-11-11 04:00:00               Good            1260.0\n",
       "441  2017-11-11 13:00:00               Good            2091.0\n",
       "365  2017-11-04 12:00:00               Good            2761.0"
      ]
     },
     "metadata": {},
     "output_type": "display_data"
    }
   ],
   "source": [
    "company_trips_info = pd.read_csv('/datasets/project_sql_result_01.csv')\n",
    "trips_info = pd.read_csv('/datasets/project_sql_result_04.csv')\n",
    "weather_trips = pd.read_csv('/datasets/project_sql_result_07.csv')\n",
    "\n",
    "\n",
    "display(company_trips_info.sample(10))\n",
    "display(trips_info.sample(10))\n",
    "display(weather_trips.sample(10))"
   ]
  },
  {
   "cell_type": "markdown",
   "metadata": {},
   "source": [
    "## Estudio de datos"
   ]
  },
  {
   "cell_type": "markdown",
   "metadata": {},
   "source": [
    "# 2.1 Estudio de datos company_trips_info"
   ]
  },
  {
   "cell_type": "markdown",
   "metadata": {},
   "source": [
    "A continuación se realiza estudio sobre el tipo de datos que tenemos, su calidad, y qué valor podríamos agregar para sacarle el mayor provecho"
   ]
  },
  {
   "cell_type": "code",
   "execution_count": null,
   "metadata": {
    "scrolled": true
   },
   "outputs": [
    {
     "data": {
      "text/html": [
       "<div>\n",
       "<style scoped>\n",
       "    .dataframe tbody tr th:only-of-type {\n",
       "        vertical-align: middle;\n",
       "    }\n",
       "\n",
       "    .dataframe tbody tr th {\n",
       "        vertical-align: top;\n",
       "    }\n",
       "\n",
       "    .dataframe thead th {\n",
       "        text-align: right;\n",
       "    }\n",
       "</style>\n",
       "<table border=\"1\" class=\"dataframe\">\n",
       "  <thead>\n",
       "    <tr style=\"text-align: right;\">\n",
       "      <th></th>\n",
       "      <th>company_name</th>\n",
       "      <th>trips_amount</th>\n",
       "    </tr>\n",
       "  </thead>\n",
       "  <tbody>\n",
       "    <tr>\n",
       "      <th>0</th>\n",
       "      <td>Flash Cab</td>\n",
       "      <td>19558</td>\n",
       "    </tr>\n",
       "    <tr>\n",
       "      <th>1</th>\n",
       "      <td>Taxi Affiliation Services</td>\n",
       "      <td>11422</td>\n",
       "    </tr>\n",
       "    <tr>\n",
       "      <th>2</th>\n",
       "      <td>Medallion Leasing</td>\n",
       "      <td>10367</td>\n",
       "    </tr>\n",
       "    <tr>\n",
       "      <th>3</th>\n",
       "      <td>Yellow Cab</td>\n",
       "      <td>9888</td>\n",
       "    </tr>\n",
       "    <tr>\n",
       "      <th>4</th>\n",
       "      <td>Taxi Affiliation Service Yellow</td>\n",
       "      <td>9299</td>\n",
       "    </tr>\n",
       "  </tbody>\n",
       "</table>\n",
       "</div>"
      ],
      "text/plain": [
       "                      company_name  trips_amount\n",
       "0                        Flash Cab         19558\n",
       "1        Taxi Affiliation Services         11422\n",
       "2                Medallion Leasing         10367\n",
       "3                       Yellow Cab          9888\n",
       "4  Taxi Affiliation Service Yellow          9299"
      ]
     },
     "metadata": {},
     "output_type": "display_data"
    },
    {
     "data": {
      "text/html": [
       "<div>\n",
       "<style scoped>\n",
       "    .dataframe tbody tr th:only-of-type {\n",
       "        vertical-align: middle;\n",
       "    }\n",
       "\n",
       "    .dataframe tbody tr th {\n",
       "        vertical-align: top;\n",
       "    }\n",
       "\n",
       "    .dataframe thead th {\n",
       "        text-align: right;\n",
       "    }\n",
       "</style>\n",
       "<table border=\"1\" class=\"dataframe\">\n",
       "  <thead>\n",
       "    <tr style=\"text-align: right;\">\n",
       "      <th></th>\n",
       "      <th>company_name</th>\n",
       "      <th>trips_amount</th>\n",
       "    </tr>\n",
       "  </thead>\n",
       "  <tbody>\n",
       "    <tr>\n",
       "      <th>59</th>\n",
       "      <td>4053 - 40193 Adwar H. Nikola</td>\n",
       "      <td>7</td>\n",
       "    </tr>\n",
       "    <tr>\n",
       "      <th>60</th>\n",
       "      <td>2733 - 74600 Benny Jona</td>\n",
       "      <td>7</td>\n",
       "    </tr>\n",
       "    <tr>\n",
       "      <th>61</th>\n",
       "      <td>5874 - 73628 Sergey Cab Corp.</td>\n",
       "      <td>5</td>\n",
       "    </tr>\n",
       "    <tr>\n",
       "      <th>62</th>\n",
       "      <td>2241 - 44667 - Felman Corp</td>\n",
       "      <td>3</td>\n",
       "    </tr>\n",
       "    <tr>\n",
       "      <th>63</th>\n",
       "      <td>3556 - 36214 RC Andrews Cab</td>\n",
       "      <td>2</td>\n",
       "    </tr>\n",
       "  </tbody>\n",
       "</table>\n",
       "</div>"
      ],
      "text/plain": [
       "                     company_name  trips_amount\n",
       "59   4053 - 40193 Adwar H. Nikola             7\n",
       "60        2733 - 74600 Benny Jona             7\n",
       "61  5874 - 73628 Sergey Cab Corp.             5\n",
       "62     2241 - 44667 - Felman Corp             3\n",
       "63    3556 - 36214 RC Andrews Cab             2"
      ]
     },
     "metadata": {},
     "output_type": "display_data"
    }
   ],
   "source": [
    "#comparación de inicio y fin del dataframe:\n",
    "\n",
    "display(company_trips_info.head(5))\n",
    "display(company_trips_info.tail(5))"
   ]
  },
  {
   "cell_type": "code",
   "execution_count": null,
   "metadata": {
    "scrolled": true
   },
   "outputs": [
    {
     "name": "stdout",
     "output_type": "stream",
     "text": [
      "<class 'pandas.core.frame.DataFrame'>\n",
      "RangeIndex: 64 entries, 0 to 63\n",
      "Data columns (total 2 columns):\n",
      " #   Column        Non-Null Count  Dtype \n",
      "---  ------        --------------  ----- \n",
      " 0   company_name  64 non-null     object\n",
      " 1   trips_amount  64 non-null     int64 \n",
      "dtypes: int64(1), object(1)\n",
      "memory usage: 1.1+ KB\n",
      "None\n"
     ]
    }
   ],
   "source": [
    "# Información preliminar del Dataframe \n",
    "\n",
    "print(company_trips_info.info())"
   ]
  },
  {
   "cell_type": "markdown",
   "metadata": {},
   "source": [
    "Podemos apreciar a simple vista que el contenido del dataframe es simple, ya que tiene 2 columnas con 64 entradas; company_name con datos tipo 'object' que muestran los nombres de la compañía y `trips_amount` con datos tipo 'int' que muestran la cantidad de viajes en el período de tiempo entre el 15 y 16 de noviembre. Ambas columnas no poseen valores ausentes a simple vista. "
   ]
  },
  {
   "cell_type": "code",
   "execution_count": null,
   "metadata": {},
   "outputs": [
    {
     "data": {
      "text/plain": [
       "count       64.000000\n",
       "mean      2145.484375\n",
       "std       3812.310186\n",
       "min          2.000000\n",
       "25%         20.750000\n",
       "50%        178.500000\n",
       "75%       2106.500000\n",
       "max      19558.000000\n",
       "Name: trips_amount, dtype: float64"
      ]
     },
     "execution_count": 5,
     "metadata": {},
     "output_type": "execute_result"
    }
   ],
   "source": [
    "#Evaluemos los rangos de información de la columna 'trips_amount'\n",
    "\n",
    "company_trips_info['trips_amount'].describe()"
   ]
  },
  {
   "cell_type": "markdown",
   "metadata": {},
   "source": [
    "Podemos apreciar que el mínmo de viajes en esta muestra es 2, el máximo 19558 y el promedio 2145.48 .Solo 25% de las empresas de esta muestra alcanza el promedio/media del total de viajes. La media (2145.48) es mayor a la mediana (178.5) Esto sugiere una distribución sesgada hacia valores más altos, dado que la media es mucho mayor que la mediana, respaldando la presencia de valores atípicamente altos. tomando en cuenta eso, podríamos dividir la población en 2 partes y poder analizar caracteres interesantes y la diferencia entres estas. "
   ]
  },
  {
   "cell_type": "markdown",
   "metadata": {},
   "source": [
    "A continuación, realizaremos un estudio mas profundo sobre los datos de esta tabla, revisaremos si hay valores ausentes 'disimulados' y duplicados, siendo esto enfocado en la columna `company_name` ya que contiene valores tipo object, y apuntan a ser valores únicos."
   ]
  },
  {
   "cell_type": "markdown",
   "metadata": {},
   "source": [
    "# Valores Ausentes company_trips_info"
   ]
  },
  {
   "cell_type": "code",
   "execution_count": null,
   "metadata": {},
   "outputs": [
    {
     "name": "stdout",
     "output_type": "stream",
     "text": [
      "['Flash Cab' 'Taxi Affiliation Services' 'Medallion Leasing' 'Yellow Cab'\n",
      " 'Taxi Affiliation Service Yellow' 'Chicago Carriage Cab Corp'\n",
      " 'City Service' 'Sun Taxi' 'Star North Management LLC'\n",
      " 'Blue Ribbon Taxi Association Inc.' 'Choice Taxi Association'\n",
      " 'Globe Taxi' 'Dispatch Taxi Affiliation' 'Nova Taxi Affiliation Llc'\n",
      " 'Patriot Taxi Dba Peace Taxi Association' 'Checker Taxi Affiliation'\n",
      " 'Blue Diamond' 'Chicago Medallion Management' '24 Seven Taxi'\n",
      " 'Chicago Medallion Leasing INC' 'Checker Taxi' 'American United'\n",
      " 'Chicago Independents' 'KOAM Taxi Association' 'Chicago Taxicab'\n",
      " 'Top Cab Affiliation' 'Gold Coast Taxi' 'Service Taxi Association'\n",
      " '5 Star Taxi' '303 Taxi' 'Setare Inc' 'American United Taxi Affiliation'\n",
      " 'Leonard Cab Co' 'Metro Jet Taxi A' 'Norshore Cab'\n",
      " '6742 - 83735 Tasha Ride Inc' '3591 - 63480 Chuks Cab'\n",
      " '1469 - 64126 Omar Jada' '6743 - 78771 Luhak Corp'\n",
      " '0118 - 42111 Godfrey S. Awir' '6574 - Babylon Express Inc.'\n",
      " 'Chicago Star Taxicab' '1085 - 72312 N and W Cab Co'\n",
      " '2809 - 95474 C & D Cab Co Inc.' '2092 - 61288 Sbeih Company'\n",
      " '3011 - 66308 JBL Cab Inc.' '3620 - 52292 David K. Cab Corp.'\n",
      " '4615 - 83503 Tyrone Henderson' '3623 - 72222 Arrington Enterprises'\n",
      " '5074 - 54002 Ahzmi Inc' '2823 - 73307 Lee Express Inc'\n",
      " '4623 - 27290 Jay Kim' '3721 - Santamaria Express'\n",
      " '5006 - 39261 Salifu Bawa' '2192 - 73487 Zeymane Corp'\n",
      " '6057 - 24657 Richard Addo' '5997 - 65283 AW Services Inc.' 'Metro Group'\n",
      " '5062 - 34841 Sam Mestas' '4053 - 40193 Adwar H. Nikola'\n",
      " '2733 - 74600 Benny Jona' '5874 - 73628 Sergey Cab Corp.'\n",
      " '2241 - 44667 - Felman Corp' '3556 - 36214 RC Andrews Cab']\n",
      "\n",
      "Entradas en la columna 'company_name' :  64\n"
     ]
    }
   ],
   "source": [
    "# Comprobamos a fondo si no hay valores ausentes con el método unique \n",
    "\n",
    "lost_val1 = company_trips_info['company_name'].unique()\n",
    "\n",
    "print(lost_val1)\n",
    "\n",
    "print()\n",
    "\n",
    "print(\"Entradas en la columna 'company_name' : \" ,  company_trips_info['company_name'].nunique())"
   ]
  },
  {
   "cell_type": "markdown",
   "metadata": {},
   "source": [
    "Podemos presenciar con este método, que cada valor/entrada en esta columna no contiene valores ausentes disimulados, como lo poedmos presenciar en algunos casos como 'none','blank','NA' "
   ]
  },
  {
   "cell_type": "markdown",
   "metadata": {},
   "source": [
    "# Valores Duplicados company_trips_info"
   ]
  },
  {
   "cell_type": "code",
   "execution_count": null,
   "metadata": {},
   "outputs": [
    {
     "name": "stdout",
     "output_type": "stream",
     "text": [
      "Cantidda de filas duplicadas: 0\n",
      "No hay filas dupicadas\n"
     ]
    }
   ],
   "source": [
    "# Comprobamos si hay filas duplicadas \n",
    "\n",
    "df_dup = company_trips_info.duplicated()\n",
    "df_dup_sum = df_dup.sum()\n",
    "\n",
    "if df_dup_sum > 0: \n",
    "    print('Hay filas duplicadas')\n",
    "    print('Cantidad de filas duplicadas:' , df_dup_sum)\n",
    "    duplicated_rows = company_trips_info[df_dup]\n",
    "    print('filas duplicadas:' , duplicated_rows)\n",
    "else:\n",
    "    print('Cantidda de filas duplicadas:' , df_dup_sum)\n",
    "    print('No hay filas dupicadas')"
   ]
  },
  {
   "cell_type": "code",
   "execution_count": null,
   "metadata": {},
   "outputs": [
    {
     "name": "stdout",
     "output_type": "stream",
     "text": [
      "número de veces que aparece un mismo valor en la columna : \n",
      "\n",
      "0118 - 42111 Godfrey S. Awir       1\n",
      "1085 - 72312 N and W Cab Co        1\n",
      "1469 - 64126 Omar Jada             1\n",
      "2092 - 61288 Sbeih Company         1\n",
      "2192 - 73487 Zeymane Corp          1\n",
      "                                  ..\n",
      "Sun Taxi                           1\n",
      "Taxi Affiliation Service Yellow    1\n",
      "Taxi Affiliation Services          1\n",
      "Top Cab Affiliation                1\n",
      "Yellow Cab                         1\n",
      "Name: company_name, Length: 64, dtype: int64\n",
      "-------------------------------------------------------------------------------------------------------------------\n",
      "Nombres únicos: 64\n",
      "Nombres únicos minúscula: 64\n"
     ]
    }
   ],
   "source": [
    "# Comprobamos la cantidad de veces que aparecen los valores en la columna company_name:\n",
    "\n",
    "dup_val1 = company_trips_info['company_name'].value_counts()\n",
    "\n",
    "dup_val1 = dup_val1.sort_index()\n",
    "\n",
    "print('número de veces que aparece un mismo valor en la columna : ')\n",
    "print()\n",
    "print(dup_val1)\n",
    "\n",
    "print('-------------------------------------------------------------------------------------------------------------------')\n",
    "\n",
    "# comprobamos duplicados, cambiando los nombres a minúscula. \n",
    "\n",
    "print('Nombres únicos:' , company_trips_info['company_name'].nunique())\n",
    "\n",
    "company_name_low = len(company_trips_info['company_name'].str.lower().unique())\n",
    "\n",
    "print('Nombres únicos minúscula:', company_name_low)\n",
    "\n"
   ]
  },
  {
   "cell_type": "markdown",
   "metadata": {},
   "source": [
    "Aseguramos la cálidad de datos. "
   ]
  },
  {
   "cell_type": "markdown",
   "metadata": {},
   "source": [
    "# 2.2 Estudio de datos trips_info"
   ]
  },
  {
   "cell_type": "code",
   "execution_count": null,
   "metadata": {},
   "outputs": [
    {
     "data": {
      "text/html": [
       "<div>\n",
       "<style scoped>\n",
       "    .dataframe tbody tr th:only-of-type {\n",
       "        vertical-align: middle;\n",
       "    }\n",
       "\n",
       "    .dataframe tbody tr th {\n",
       "        vertical-align: top;\n",
       "    }\n",
       "\n",
       "    .dataframe thead th {\n",
       "        text-align: right;\n",
       "    }\n",
       "</style>\n",
       "<table border=\"1\" class=\"dataframe\">\n",
       "  <thead>\n",
       "    <tr style=\"text-align: right;\">\n",
       "      <th></th>\n",
       "      <th>dropoff_location_name</th>\n",
       "      <th>average_trips</th>\n",
       "    </tr>\n",
       "  </thead>\n",
       "  <tbody>\n",
       "    <tr>\n",
       "      <th>0</th>\n",
       "      <td>Loop</td>\n",
       "      <td>10727.466667</td>\n",
       "    </tr>\n",
       "    <tr>\n",
       "      <th>1</th>\n",
       "      <td>River North</td>\n",
       "      <td>9523.666667</td>\n",
       "    </tr>\n",
       "    <tr>\n",
       "      <th>2</th>\n",
       "      <td>Streeterville</td>\n",
       "      <td>6664.666667</td>\n",
       "    </tr>\n",
       "    <tr>\n",
       "      <th>3</th>\n",
       "      <td>West Loop</td>\n",
       "      <td>5163.666667</td>\n",
       "    </tr>\n",
       "    <tr>\n",
       "      <th>4</th>\n",
       "      <td>O'Hare</td>\n",
       "      <td>2546.900000</td>\n",
       "    </tr>\n",
       "  </tbody>\n",
       "</table>\n",
       "</div>"
      ],
      "text/plain": [
       "  dropoff_location_name  average_trips\n",
       "0                  Loop   10727.466667\n",
       "1           River North    9523.666667\n",
       "2         Streeterville    6664.666667\n",
       "3             West Loop    5163.666667\n",
       "4                O'Hare    2546.900000"
      ]
     },
     "metadata": {},
     "output_type": "display_data"
    },
    {
     "data": {
      "text/html": [
       "<div>\n",
       "<style scoped>\n",
       "    .dataframe tbody tr th:only-of-type {\n",
       "        vertical-align: middle;\n",
       "    }\n",
       "\n",
       "    .dataframe tbody tr th {\n",
       "        vertical-align: top;\n",
       "    }\n",
       "\n",
       "    .dataframe thead th {\n",
       "        text-align: right;\n",
       "    }\n",
       "</style>\n",
       "<table border=\"1\" class=\"dataframe\">\n",
       "  <thead>\n",
       "    <tr style=\"text-align: right;\">\n",
       "      <th></th>\n",
       "      <th>dropoff_location_name</th>\n",
       "      <th>average_trips</th>\n",
       "    </tr>\n",
       "  </thead>\n",
       "  <tbody>\n",
       "    <tr>\n",
       "      <th>89</th>\n",
       "      <td>Mount Greenwood</td>\n",
       "      <td>3.137931</td>\n",
       "    </tr>\n",
       "    <tr>\n",
       "      <th>90</th>\n",
       "      <td>Hegewisch</td>\n",
       "      <td>3.117647</td>\n",
       "    </tr>\n",
       "    <tr>\n",
       "      <th>91</th>\n",
       "      <td>Burnside</td>\n",
       "      <td>2.333333</td>\n",
       "    </tr>\n",
       "    <tr>\n",
       "      <th>92</th>\n",
       "      <td>East Side</td>\n",
       "      <td>1.961538</td>\n",
       "    </tr>\n",
       "    <tr>\n",
       "      <th>93</th>\n",
       "      <td>Riverdale</td>\n",
       "      <td>1.800000</td>\n",
       "    </tr>\n",
       "  </tbody>\n",
       "</table>\n",
       "</div>"
      ],
      "text/plain": [
       "   dropoff_location_name  average_trips\n",
       "89       Mount Greenwood       3.137931\n",
       "90             Hegewisch       3.117647\n",
       "91              Burnside       2.333333\n",
       "92             East Side       1.961538\n",
       "93             Riverdale       1.800000"
      ]
     },
     "metadata": {},
     "output_type": "display_data"
    }
   ],
   "source": [
    "#comparación de inicio y fin del dataframe:\n",
    "\n",
    "display(trips_info.head(5))\n",
    "display(trips_info.tail(5))"
   ]
  },
  {
   "cell_type": "code",
   "execution_count": null,
   "metadata": {},
   "outputs": [
    {
     "name": "stdout",
     "output_type": "stream",
     "text": [
      "<class 'pandas.core.frame.DataFrame'>\n",
      "RangeIndex: 94 entries, 0 to 93\n",
      "Data columns (total 2 columns):\n",
      " #   Column                 Non-Null Count  Dtype  \n",
      "---  ------                 --------------  -----  \n",
      " 0   dropoff_location_name  94 non-null     object \n",
      " 1   average_trips          94 non-null     float64\n",
      "dtypes: float64(1), object(1)\n",
      "memory usage: 1.6+ KB\n",
      "None\n"
     ]
    }
   ],
   "source": [
    "# Información preliminar del Dataframe \n",
    "\n",
    "print(trips_info.info())"
   ]
  },
  {
   "cell_type": "markdown",
   "metadata": {},
   "source": [
    "En el Dataframe `trips_info`, tenemos un escenario casi identico al dataframe anterior. Podemos ver a simple vista que contamos con 2 columnas; `dropoff_location_name` el cual tiene el nombre del destino final del viaje y la columna `avarage_trips` el cual representa la media de los viajes realizados según el destino final. Ambas columnas a simple vista no contienen valores nulos.\n",
    "\n",
    "Sin embargo, hay que señalar que la columna average_trips presenta sus valores en formato float y contiene muchos decimales, por lo cual en cuanto a legibilidad y mejor manejo de datos, se optará por reducirlos, redondeandolos a númeo entero, tomando en cuenta primero si esta acción modifique de forma perjudicial el resultado inicial"
   ]
  },
  {
   "cell_type": "code",
   "execution_count": null,
   "metadata": {},
   "outputs": [
    {
     "data": {
      "text/plain": [
       "count       94.000000\n",
       "mean       599.953728\n",
       "std       1714.591098\n",
       "min          1.800000\n",
       "25%         14.266667\n",
       "50%         52.016667\n",
       "75%        298.858333\n",
       "max      10727.466667\n",
       "Name: average_trips, dtype: float64"
      ]
     },
     "execution_count": 11,
     "metadata": {},
     "output_type": "execute_result"
    }
   ],
   "source": [
    "#Evaluemos los rangos de información de la columna 'average_trips'\n",
    "\n",
    "trips_info['average_trips'].describe()"
   ]
  },
  {
   "cell_type": "markdown",
   "metadata": {},
   "source": [
    "Se registran 94 valores únicos que coinciden con el número total de filas de nuestro dataset, en promedio se registran ~600 viajes por barrio en términos de finalización. La media ~600 es mayor a la mediana de 52.01 por lo que nuestros datos presentan una asimetría positiva con un sesgo hacia la derecha de nuestros datos, esto se evidencia con la alta desviación estándar de 1714,59. Ni el 25% de los datos llega a la media de ~600"
   ]
  },
  {
   "cell_type": "markdown",
   "metadata": {},
   "source": [
    "# Valores Ausentes trips_info"
   ]
  },
  {
   "cell_type": "code",
   "execution_count": null,
   "metadata": {},
   "outputs": [
    {
     "name": "stdout",
     "output_type": "stream",
     "text": [
      "['Loop' 'River North' 'Streeterville' 'West Loop' \"O'Hare\" 'Lake View'\n",
      " 'Grant Park' 'Museum Campus' 'Gold Coast' 'Sheffield & DePaul'\n",
      " 'Lincoln Park' 'East Village' 'Little Italy, UIC' 'Uptown'\n",
      " 'Near South Side' 'Garfield Ridge' 'Logan Square' 'Edgewater' 'West Town'\n",
      " 'Old Town' 'Rush & Division' 'North Center' 'Lincoln Square'\n",
      " 'Rogers Park' 'West Ridge' 'Irving Park' 'Hyde Park' 'Avondale'\n",
      " 'Wicker Park' 'Albany Park' 'United Center' 'Lower West Side' 'Douglas'\n",
      " 'Portage Park' 'Humboldt Park' 'Norwood Park' 'Kenwood' 'Bridgeport'\n",
      " 'Armour Square' 'Jefferson Park' 'Bucktown' 'North Park' 'Garfield Park'\n",
      " 'Mckinley Park' 'Belmont Cragin' 'Boystown' 'Chinatown' 'Grand Boulevard'\n",
      " 'Austin' 'Sauganash,Forest Glen' 'South Shore' 'Woodlawn'\n",
      " 'Little Village' 'Jackson Park' 'North Lawndale' 'Dunning'\n",
      " 'Ukrainian Village' 'Hermosa' 'Englewood' 'Chatham' 'New City'\n",
      " 'Grand Crossing' 'Brighton Park' 'Andersonville' 'Oakland' 'Ashburn'\n",
      " 'Washington Park' 'Auburn Gresham' 'Clearing' 'Roseland' 'Wrigleyville'\n",
      " 'Edison Park' 'South Chicago' 'Chicago Lawn' 'Beverly' 'Calumet Heights'\n",
      " 'Washington Heights' 'Archer Heights' 'Gage Park' 'Fuller Park'\n",
      " 'West Lawn' 'Morgan Park' 'South Deering' 'Avalon Park' 'West Pullman'\n",
      " 'Montclare' 'West Elsdon' 'Pullman' 'Undef' 'Mount Greenwood' 'Hegewisch'\n",
      " 'Burnside' 'East Side' 'Riverdale']\n",
      "\n",
      "Entradas en la columna 'dropoff_location_name' :  94\n"
     ]
    }
   ],
   "source": [
    "# Comprobamos a fondo si no hay valores ausentes con el método unique \n",
    "\n",
    "lost_val2 = trips_info['dropoff_location_name'].unique()\n",
    "\n",
    "print(lost_val2)\n",
    "\n",
    "print()\n",
    "\n",
    "print(\"Entradas en la columna 'dropoff_location_name' : \" ,  trips_info['dropoff_location_name'].nunique())"
   ]
  },
  {
   "cell_type": "markdown",
   "metadata": {},
   "source": [
    "# Valores Duplicados trips_info"
   ]
  },
  {
   "cell_type": "code",
   "execution_count": null,
   "metadata": {},
   "outputs": [
    {
     "name": "stdout",
     "output_type": "stream",
     "text": [
      "número de filas duplicadas: 0\n",
      "No hay filas duplicadas\n"
     ]
    }
   ],
   "source": [
    "# Comprobamos si hay filas duplicadas \n",
    "\n",
    "df_dup1 = trips_info.duplicated()\n",
    "df_dup_sum1 = df_dup1.sum()\n",
    "\n",
    "if df_dup_sum1 > 0:\n",
    "    print('Hay filas duplicadas')\n",
    "    print('Cantidad de filas duplicadas:' , df_dup_sum1)\n",
    "    dup_rows1 = trips_info[df_dup1]\n",
    "    print(dup_rows1)\n",
    "else:\n",
    "    print('número de filas duplicadas:' , df_dup_sum1)\n",
    "    print('No hay filas duplicadas')"
   ]
  },
  {
   "cell_type": "code",
   "execution_count": null,
   "metadata": {},
   "outputs": [
    {
     "name": "stdout",
     "output_type": "stream",
     "text": [
      "número de veces que aparece un mismo valor en la columna : \n",
      "\n",
      "0118 - 42111 Godfrey S. Awir       1\n",
      "1085 - 72312 N and W Cab Co        1\n",
      "1469 - 64126 Omar Jada             1\n",
      "2092 - 61288 Sbeih Company         1\n",
      "2192 - 73487 Zeymane Corp          1\n",
      "                                  ..\n",
      "Sun Taxi                           1\n",
      "Taxi Affiliation Service Yellow    1\n",
      "Taxi Affiliation Services          1\n",
      "Top Cab Affiliation                1\n",
      "Yellow Cab                         1\n",
      "Name: company_name, Length: 64, dtype: int64\n",
      "-------------------------------------------------------------------------------------------------------------------\n",
      "Nombres únicos: 94\n",
      "Nombres únicos minúscula: 94\n"
     ]
    }
   ],
   "source": [
    "# Comprobamos la cantidad de veces que aparecen los valores en la columna company_name:\n",
    "\n",
    "dup_val2 = trips_info['dropoff_location_name'].value_counts()\n",
    "\n",
    "dup_val2 = dup_val1.sort_index()\n",
    "\n",
    "print('número de veces que aparece un mismo valor en la columna : ')\n",
    "print()\n",
    "print(dup_val1)\n",
    "\n",
    "print('-------------------------------------------------------------------------------------------------------------------')\n",
    "\n",
    "# comprobamos duplicados, cambiando los nombres a minúscula. \n",
    "\n",
    "print('Nombres únicos:' , trips_info['dropoff_location_name'].nunique())\n",
    "\n",
    "dropoff_low = len(trips_info['dropoff_location_name'].str.lower().unique())\n",
    "\n",
    "print('Nombres únicos minúscula:', dropoff_low)\n"
   ]
  },
  {
   "cell_type": "markdown",
   "metadata": {},
   "source": [
    "# 2.3 Estudio de datos weather_trips"
   ]
  },
  {
   "cell_type": "code",
   "execution_count": null,
   "metadata": {},
   "outputs": [
    {
     "data": {
      "text/html": [
       "<div>\n",
       "<style scoped>\n",
       "    .dataframe tbody tr th:only-of-type {\n",
       "        vertical-align: middle;\n",
       "    }\n",
       "\n",
       "    .dataframe tbody tr th {\n",
       "        vertical-align: top;\n",
       "    }\n",
       "\n",
       "    .dataframe thead th {\n",
       "        text-align: right;\n",
       "    }\n",
       "</style>\n",
       "<table border=\"1\" class=\"dataframe\">\n",
       "  <thead>\n",
       "    <tr style=\"text-align: right;\">\n",
       "      <th></th>\n",
       "      <th>start_ts</th>\n",
       "      <th>weather_conditions</th>\n",
       "      <th>duration_seconds</th>\n",
       "    </tr>\n",
       "  </thead>\n",
       "  <tbody>\n",
       "    <tr>\n",
       "      <th>0</th>\n",
       "      <td>2017-11-25 16:00:00</td>\n",
       "      <td>Good</td>\n",
       "      <td>2410.0</td>\n",
       "    </tr>\n",
       "    <tr>\n",
       "      <th>1</th>\n",
       "      <td>2017-11-25 14:00:00</td>\n",
       "      <td>Good</td>\n",
       "      <td>1920.0</td>\n",
       "    </tr>\n",
       "    <tr>\n",
       "      <th>2</th>\n",
       "      <td>2017-11-25 12:00:00</td>\n",
       "      <td>Good</td>\n",
       "      <td>1543.0</td>\n",
       "    </tr>\n",
       "    <tr>\n",
       "      <th>3</th>\n",
       "      <td>2017-11-04 10:00:00</td>\n",
       "      <td>Good</td>\n",
       "      <td>2512.0</td>\n",
       "    </tr>\n",
       "    <tr>\n",
       "      <th>4</th>\n",
       "      <td>2017-11-11 07:00:00</td>\n",
       "      <td>Good</td>\n",
       "      <td>1440.0</td>\n",
       "    </tr>\n",
       "  </tbody>\n",
       "</table>\n",
       "</div>"
      ],
      "text/plain": [
       "              start_ts weather_conditions  duration_seconds\n",
       "0  2017-11-25 16:00:00               Good            2410.0\n",
       "1  2017-11-25 14:00:00               Good            1920.0\n",
       "2  2017-11-25 12:00:00               Good            1543.0\n",
       "3  2017-11-04 10:00:00               Good            2512.0\n",
       "4  2017-11-11 07:00:00               Good            1440.0"
      ]
     },
     "metadata": {},
     "output_type": "display_data"
    },
    {
     "data": {
      "text/html": [
       "<div>\n",
       "<style scoped>\n",
       "    .dataframe tbody tr th:only-of-type {\n",
       "        vertical-align: middle;\n",
       "    }\n",
       "\n",
       "    .dataframe tbody tr th {\n",
       "        vertical-align: top;\n",
       "    }\n",
       "\n",
       "    .dataframe thead th {\n",
       "        text-align: right;\n",
       "    }\n",
       "</style>\n",
       "<table border=\"1\" class=\"dataframe\">\n",
       "  <thead>\n",
       "    <tr style=\"text-align: right;\">\n",
       "      <th></th>\n",
       "      <th>start_ts</th>\n",
       "      <th>weather_conditions</th>\n",
       "      <th>duration_seconds</th>\n",
       "    </tr>\n",
       "  </thead>\n",
       "  <tbody>\n",
       "    <tr>\n",
       "      <th>1063</th>\n",
       "      <td>2017-11-25 11:00:00</td>\n",
       "      <td>Good</td>\n",
       "      <td>0.0</td>\n",
       "    </tr>\n",
       "    <tr>\n",
       "      <th>1064</th>\n",
       "      <td>2017-11-11 10:00:00</td>\n",
       "      <td>Good</td>\n",
       "      <td>1318.0</td>\n",
       "    </tr>\n",
       "    <tr>\n",
       "      <th>1065</th>\n",
       "      <td>2017-11-11 13:00:00</td>\n",
       "      <td>Good</td>\n",
       "      <td>2100.0</td>\n",
       "    </tr>\n",
       "    <tr>\n",
       "      <th>1066</th>\n",
       "      <td>2017-11-11 08:00:00</td>\n",
       "      <td>Good</td>\n",
       "      <td>1380.0</td>\n",
       "    </tr>\n",
       "    <tr>\n",
       "      <th>1067</th>\n",
       "      <td>2017-11-04 16:00:00</td>\n",
       "      <td>Bad</td>\n",
       "      <td>2834.0</td>\n",
       "    </tr>\n",
       "  </tbody>\n",
       "</table>\n",
       "</div>"
      ],
      "text/plain": [
       "                 start_ts weather_conditions  duration_seconds\n",
       "1063  2017-11-25 11:00:00               Good               0.0\n",
       "1064  2017-11-11 10:00:00               Good            1318.0\n",
       "1065  2017-11-11 13:00:00               Good            2100.0\n",
       "1066  2017-11-11 08:00:00               Good            1380.0\n",
       "1067  2017-11-04 16:00:00                Bad            2834.0"
      ]
     },
     "metadata": {},
     "output_type": "display_data"
    }
   ],
   "source": [
    "#comparación de inicio y fin del dataframe:\n",
    "\n",
    "display(weather_trips.head(5))\n",
    "display(weather_trips.tail(5))"
   ]
  },
  {
   "cell_type": "code",
   "execution_count": null,
   "metadata": {},
   "outputs": [
    {
     "name": "stdout",
     "output_type": "stream",
     "text": [
      "<class 'pandas.core.frame.DataFrame'>\n",
      "RangeIndex: 1068 entries, 0 to 1067\n",
      "Data columns (total 3 columns):\n",
      " #   Column              Non-Null Count  Dtype  \n",
      "---  ------              --------------  -----  \n",
      " 0   start_ts            1068 non-null   object \n",
      " 1   weather_conditions  1068 non-null   object \n",
      " 2   duration_seconds    1068 non-null   float64\n",
      "dtypes: float64(1), object(2)\n",
      "memory usage: 25.2+ KB\n",
      "None\n"
     ]
    }
   ],
   "source": [
    "# Información preliminar del Dataframe \n",
    "\n",
    "print(weather_trips.info())"
   ]
  },
  {
   "cell_type": "markdown",
   "metadata": {},
   "source": [
    "En este DF cuenta con 1068 entradas, en el cual nos encontramos con 3 columnas; `start_ts` el cual muestra la fecha y hora del comienzo del viaje y sus valores están guardados en el formato object, en `weather_conditions` muestra la condición del clima el cual los divide a simpple vista en 2 opciones, y por último está la columna `duration_seconds` tenemos la duración en segunos del viaje los valores fueron guardados tipo float.64 "
   ]
  },
  {
   "cell_type": "code",
   "execution_count": null,
   "metadata": {},
   "outputs": [
    {
     "name": "stdout",
     "output_type": "stream",
     "text": [
      "count    1068.000000\n",
      "mean     2071.731273\n",
      "std       769.461125\n",
      "min         0.000000\n",
      "25%      1438.250000\n",
      "50%      1980.000000\n",
      "75%      2580.000000\n",
      "max      7440.000000\n",
      "Name: duration_seconds, dtype: float64\n"
     ]
    }
   ],
   "source": [
    "#Evaluemos los rangos de información de la columna 'duration_seconds'\n",
    "\n",
    "print(weather_trips['duration_seconds'].describe())"
   ]
  },
  {
   "cell_type": "markdown",
   "metadata": {},
   "source": [
    "La descripción muestra de 1068 valores con un mínimo siendo 0, con una mediana de 1980 y máximo de 7440. El viaje más corto registrado es de 0 segundos, lo que podría indicar viajes sin duración registrada o posiblemente errores en los datos.\n",
    "\n",
    "La media (1068) , y la mediana (1980) mantienen valores cercanos entre sí, lo que indica una asimetría positiva con un sesgo hacia la derecha de nuestro datos, la desviación estándar registrada es de 769,46.\n"
   ]
  },
  {
   "cell_type": "markdown",
   "metadata": {},
   "source": [
    "# Valores ausentes "
   ]
  },
  {
   "cell_type": "code",
   "execution_count": null,
   "metadata": {},
   "outputs": [
    {
     "name": "stdout",
     "output_type": "stream",
     "text": [
      "['Good' 'Bad']\n",
      "\n",
      "Entradas en la columna 'weather_conditions' :  2\n"
     ]
    }
   ],
   "source": [
    "# Comprobamos a fondo si no hay valores ausentes con el método unique \n",
    "\n",
    "lost_val3 = weather_trips['weather_conditions'].unique()\n",
    "\n",
    "print(lost_val3)\n",
    "\n",
    "print()\n",
    "\n",
    "print(\"Entradas en la columna 'weather_conditions' : \" ,  weather_trips['weather_conditions'].nunique())"
   ]
  },
  {
   "cell_type": "markdown",
   "metadata": {},
   "source": [
    " Con este estudio comprobamos que solo existen 2 tipos de entradas en la columna `weather_conditions`"
   ]
  },
  {
   "cell_type": "markdown",
   "metadata": {},
   "source": [
    "# Valores Duplicados"
   ]
  },
  {
   "cell_type": "markdown",
   "metadata": {},
   "source": [
    "En este DF no es necesario revisar si hay valores duplicados, es muy ambiguo. Recordemos que los caracteres de los datos están muy generalizados, fácilmente puede haber 3 columnas en el cual se efectuó un viaje con la misma fecha y hora, con la misma condición climática y la misma duración de viaje. "
   ]
  },
  {
   "cell_type": "markdown",
   "metadata": {},
   "source": [
    "## Procesamiento de Datos "
   ]
  },
  {
   "cell_type": "markdown",
   "metadata": {},
   "source": [
    "A continuación realizaremos cambios a: \n",
    "    \n",
    "   `trips_info`: Se redondeará los valores de `average_trips` y se cambiará el tipo de dato 'int' \n",
    "        \n",
    "   `weather_trips`: \n",
    "        \n",
    "   - Se cambiará el tipo de dato de la columna `start_ts` a `tydate`. \n",
    "   \n",
    "   - Se filtraran los datos de la columna `duration_seconds` a una más acorde a la distancia del trayecto.\n",
    "   \n"
   ]
  },
  {
   "cell_type": "code",
   "execution_count": null,
   "metadata": {
    "scrolled": false
   },
   "outputs": [
    {
     "data": {
      "text/html": [
       "<div>\n",
       "<style scoped>\n",
       "    .dataframe tbody tr th:only-of-type {\n",
       "        vertical-align: middle;\n",
       "    }\n",
       "\n",
       "    .dataframe tbody tr th {\n",
       "        vertical-align: top;\n",
       "    }\n",
       "\n",
       "    .dataframe thead th {\n",
       "        text-align: right;\n",
       "    }\n",
       "</style>\n",
       "<table border=\"1\" class=\"dataframe\">\n",
       "  <thead>\n",
       "    <tr style=\"text-align: right;\">\n",
       "      <th></th>\n",
       "      <th>dropoff_location_name</th>\n",
       "      <th>average_trips</th>\n",
       "    </tr>\n",
       "  </thead>\n",
       "  <tbody>\n",
       "    <tr>\n",
       "      <th>0</th>\n",
       "      <td>Loop</td>\n",
       "      <td>10727</td>\n",
       "    </tr>\n",
       "    <tr>\n",
       "      <th>1</th>\n",
       "      <td>River North</td>\n",
       "      <td>9524</td>\n",
       "    </tr>\n",
       "    <tr>\n",
       "      <th>2</th>\n",
       "      <td>Streeterville</td>\n",
       "      <td>6665</td>\n",
       "    </tr>\n",
       "    <tr>\n",
       "      <th>3</th>\n",
       "      <td>West Loop</td>\n",
       "      <td>5164</td>\n",
       "    </tr>\n",
       "    <tr>\n",
       "      <th>4</th>\n",
       "      <td>O'Hare</td>\n",
       "      <td>2547</td>\n",
       "    </tr>\n",
       "    <tr>\n",
       "      <th>...</th>\n",
       "      <td>...</td>\n",
       "      <td>...</td>\n",
       "    </tr>\n",
       "    <tr>\n",
       "      <th>89</th>\n",
       "      <td>Mount Greenwood</td>\n",
       "      <td>3</td>\n",
       "    </tr>\n",
       "    <tr>\n",
       "      <th>90</th>\n",
       "      <td>Hegewisch</td>\n",
       "      <td>3</td>\n",
       "    </tr>\n",
       "    <tr>\n",
       "      <th>91</th>\n",
       "      <td>Burnside</td>\n",
       "      <td>2</td>\n",
       "    </tr>\n",
       "    <tr>\n",
       "      <th>92</th>\n",
       "      <td>East Side</td>\n",
       "      <td>2</td>\n",
       "    </tr>\n",
       "    <tr>\n",
       "      <th>93</th>\n",
       "      <td>Riverdale</td>\n",
       "      <td>2</td>\n",
       "    </tr>\n",
       "  </tbody>\n",
       "</table>\n",
       "<p>94 rows × 2 columns</p>\n",
       "</div>"
      ],
      "text/plain": [
       "   dropoff_location_name  average_trips\n",
       "0                   Loop          10727\n",
       "1            River North           9524\n",
       "2          Streeterville           6665\n",
       "3              West Loop           5164\n",
       "4                 O'Hare           2547\n",
       "..                   ...            ...\n",
       "89       Mount Greenwood              3\n",
       "90             Hegewisch              3\n",
       "91              Burnside              2\n",
       "92             East Side              2\n",
       "93             Riverdale              2\n",
       "\n",
       "[94 rows x 2 columns]"
      ]
     },
     "metadata": {},
     "output_type": "display_data"
    }
   ],
   "source": [
    "#Redondeamos los valores de la columna average_trips en el df 'trips_info': \n",
    "\n",
    "trips_info['average_trips'] = trips_info['average_trips'].round().astype(int)\n",
    "\n",
    "display(trips_info)"
   ]
  },
  {
   "cell_type": "code",
   "execution_count": null,
   "metadata": {},
   "outputs": [
    {
     "name": "stdout",
     "output_type": "stream",
     "text": [
      "<class 'pandas.core.frame.DataFrame'>\n",
      "RangeIndex: 1068 entries, 0 to 1067\n",
      "Data columns (total 3 columns):\n",
      " #   Column              Non-Null Count  Dtype         \n",
      "---  ------              --------------  -----         \n",
      " 0   start_ts            1068 non-null   datetime64[ns]\n",
      " 1   weather_conditions  1068 non-null   object        \n",
      " 2   duration_seconds    1068 non-null   float64       \n",
      "dtypes: datetime64[ns](1), float64(1), object(1)\n",
      "memory usage: 25.2+ KB\n"
     ]
    },
    {
     "data": {
      "text/plain": [
       "None"
      ]
     },
     "metadata": {},
     "output_type": "display_data"
    }
   ],
   "source": [
    "#Cambiamos el tipo de dato de la columna 'start_ts' del df 'weather_trips': \n",
    "\n",
    "weather_trips['start_ts'] = pd.to_datetime(weather_trips['start_ts'], format='%Y-%m-%d %H:%M:%S')\n",
    "\n",
    "display(weather_trips.info())"
   ]
  },
  {
   "cell_type": "code",
   "execution_count": null,
   "metadata": {},
   "outputs": [
    {
     "name": "stdout",
     "output_type": "stream",
     "text": [
      "número de veces que aparece un mismo valor en la columna : \n",
      "\n",
      "0.0       6\n",
      "60.0      1\n",
      "420.0     1\n",
      "480.0     2\n",
      "1018.0    1\n",
      "         ..\n",
      "4380.0    1\n",
      "4800.0    1\n",
      "4980.0    2\n",
      "6420.0    1\n",
      "7440.0    1\n",
      "Name: duration_seconds, Length: 495, dtype: int64\n"
     ]
    }
   ],
   "source": [
    "#Procesamiento de valores atípicos de la columna 'duration_seconds' del df 'weather_trips'\n",
    "\n",
    "\n",
    "#comprobamos qué otros valores pueden perjudicar la media en viajes. \n",
    "\n",
    "val_ = weather_trips['duration_seconds'].value_counts()\n",
    "\n",
    "val_1 = val_.sort_index()\n",
    "\n",
    "print('número de veces que aparece un mismo valor en la columna : ')\n",
    "print()\n",
    "print(val_1)\n"
   ]
  },
  {
   "cell_type": "markdown",
   "metadata": {},
   "source": [
    "Tenemos 6 viajes que duraron 0 seg. Esto puede deberse a un error al entrar los datos o que simplemente el cliente canceló el viaje antes de empezar. El segundo viaje más corto registrado, fue de 60 seg y otros de 420 seg. y 480 seg. Comparando la distancia y cuanto toma ir desde Loop hasta O'hare en las condiciones más optimas -sin tráfico- estos, nos dan a saber que fueron errores o que simplemente el cliente cancelo el viaje. \n",
    "\n",
    "Tomando en cuenta esto, consideraremos los datos a partir de la cifra de 1018 seg, el cual viene siendo relativo a la distancia que toma reocrrer el trayecto. "
   ]
  },
  {
   "cell_type": "code",
   "execution_count": null,
   "metadata": {
    "scrolled": false
   },
   "outputs": [
    {
     "data": {
      "text/html": [
       "<div>\n",
       "<style scoped>\n",
       "    .dataframe tbody tr th:only-of-type {\n",
       "        vertical-align: middle;\n",
       "    }\n",
       "\n",
       "    .dataframe tbody tr th {\n",
       "        vertical-align: top;\n",
       "    }\n",
       "\n",
       "    .dataframe thead th {\n",
       "        text-align: right;\n",
       "    }\n",
       "</style>\n",
       "<table border=\"1\" class=\"dataframe\">\n",
       "  <thead>\n",
       "    <tr style=\"text-align: right;\">\n",
       "      <th></th>\n",
       "      <th>start_ts</th>\n",
       "      <th>weather_conditions</th>\n",
       "      <th>duration_seconds</th>\n",
       "    </tr>\n",
       "  </thead>\n",
       "  <tbody>\n",
       "    <tr>\n",
       "      <th>0</th>\n",
       "      <td>2017-11-25 16:00:00</td>\n",
       "      <td>Good</td>\n",
       "      <td>2410.0</td>\n",
       "    </tr>\n",
       "    <tr>\n",
       "      <th>1</th>\n",
       "      <td>2017-11-25 14:00:00</td>\n",
       "      <td>Good</td>\n",
       "      <td>1920.0</td>\n",
       "    </tr>\n",
       "    <tr>\n",
       "      <th>2</th>\n",
       "      <td>2017-11-25 12:00:00</td>\n",
       "      <td>Good</td>\n",
       "      <td>1543.0</td>\n",
       "    </tr>\n",
       "    <tr>\n",
       "      <th>3</th>\n",
       "      <td>2017-11-04 10:00:00</td>\n",
       "      <td>Good</td>\n",
       "      <td>2512.0</td>\n",
       "    </tr>\n",
       "    <tr>\n",
       "      <th>4</th>\n",
       "      <td>2017-11-11 07:00:00</td>\n",
       "      <td>Good</td>\n",
       "      <td>1440.0</td>\n",
       "    </tr>\n",
       "    <tr>\n",
       "      <th>...</th>\n",
       "      <td>...</td>\n",
       "      <td>...</td>\n",
       "      <td>...</td>\n",
       "    </tr>\n",
       "    <tr>\n",
       "      <th>1062</th>\n",
       "      <td>2017-11-11 06:00:00</td>\n",
       "      <td>Good</td>\n",
       "      <td>1500.0</td>\n",
       "    </tr>\n",
       "    <tr>\n",
       "      <th>1064</th>\n",
       "      <td>2017-11-11 10:00:00</td>\n",
       "      <td>Good</td>\n",
       "      <td>1318.0</td>\n",
       "    </tr>\n",
       "    <tr>\n",
       "      <th>1065</th>\n",
       "      <td>2017-11-11 13:00:00</td>\n",
       "      <td>Good</td>\n",
       "      <td>2100.0</td>\n",
       "    </tr>\n",
       "    <tr>\n",
       "      <th>1066</th>\n",
       "      <td>2017-11-11 08:00:00</td>\n",
       "      <td>Good</td>\n",
       "      <td>1380.0</td>\n",
       "    </tr>\n",
       "    <tr>\n",
       "      <th>1067</th>\n",
       "      <td>2017-11-04 16:00:00</td>\n",
       "      <td>Bad</td>\n",
       "      <td>2834.0</td>\n",
       "    </tr>\n",
       "  </tbody>\n",
       "</table>\n",
       "<p>1058 rows × 3 columns</p>\n",
       "</div>"
      ],
      "text/plain": [
       "                start_ts weather_conditions  duration_seconds\n",
       "0    2017-11-25 16:00:00               Good            2410.0\n",
       "1    2017-11-25 14:00:00               Good            1920.0\n",
       "2    2017-11-25 12:00:00               Good            1543.0\n",
       "3    2017-11-04 10:00:00               Good            2512.0\n",
       "4    2017-11-11 07:00:00               Good            1440.0\n",
       "...                  ...                ...               ...\n",
       "1062 2017-11-11 06:00:00               Good            1500.0\n",
       "1064 2017-11-11 10:00:00               Good            1318.0\n",
       "1065 2017-11-11 13:00:00               Good            2100.0\n",
       "1066 2017-11-11 08:00:00               Good            1380.0\n",
       "1067 2017-11-04 16:00:00                Bad            2834.0\n",
       "\n",
       "[1058 rows x 3 columns]"
      ]
     },
     "metadata": {},
     "output_type": "display_data"
    }
   ],
   "source": [
    "#Eliminar datos atípicos de la columna 'duration_seconds'.\n",
    "\n",
    "weather_trips = weather_trips[weather_trips['duration_seconds'] >= 1018.0]\n",
    "\n",
    "display(weather_trips)"
   ]
  },
  {
   "cell_type": "markdown",
   "metadata": {},
   "source": [
    "## Análisis de Datos "
   ]
  },
  {
   "cell_type": "markdown",
   "metadata": {},
   "source": [
    "# Destinos más concurridos"
   ]
  },
  {
   "cell_type": "markdown",
   "metadata": {},
   "source": [
    "Veamos los detinos más concurridos filtrando la tabla `trips_info` por la columna `average_trips` y ordenarlos de forma descendente. \n"
   ]
  },
  {
   "cell_type": "code",
   "execution_count": null,
   "metadata": {},
   "outputs": [
    {
     "data": {
      "text/html": [
       "<div>\n",
       "<style scoped>\n",
       "    .dataframe tbody tr th:only-of-type {\n",
       "        vertical-align: middle;\n",
       "    }\n",
       "\n",
       "    .dataframe tbody tr th {\n",
       "        vertical-align: top;\n",
       "    }\n",
       "\n",
       "    .dataframe thead th {\n",
       "        text-align: right;\n",
       "    }\n",
       "</style>\n",
       "<table border=\"1\" class=\"dataframe\">\n",
       "  <thead>\n",
       "    <tr style=\"text-align: right;\">\n",
       "      <th></th>\n",
       "      <th>dropoff_location_name</th>\n",
       "      <th>average_trips</th>\n",
       "    </tr>\n",
       "  </thead>\n",
       "  <tbody>\n",
       "    <tr>\n",
       "      <th>0</th>\n",
       "      <td>Loop</td>\n",
       "      <td>10727</td>\n",
       "    </tr>\n",
       "    <tr>\n",
       "      <th>1</th>\n",
       "      <td>River North</td>\n",
       "      <td>9524</td>\n",
       "    </tr>\n",
       "    <tr>\n",
       "      <th>2</th>\n",
       "      <td>Streeterville</td>\n",
       "      <td>6665</td>\n",
       "    </tr>\n",
       "    <tr>\n",
       "      <th>3</th>\n",
       "      <td>West Loop</td>\n",
       "      <td>5164</td>\n",
       "    </tr>\n",
       "    <tr>\n",
       "      <th>4</th>\n",
       "      <td>O'Hare</td>\n",
       "      <td>2547</td>\n",
       "    </tr>\n",
       "    <tr>\n",
       "      <th>5</th>\n",
       "      <td>Lake View</td>\n",
       "      <td>2421</td>\n",
       "    </tr>\n",
       "    <tr>\n",
       "      <th>6</th>\n",
       "      <td>Grant Park</td>\n",
       "      <td>2069</td>\n",
       "    </tr>\n",
       "    <tr>\n",
       "      <th>7</th>\n",
       "      <td>Museum Campus</td>\n",
       "      <td>1510</td>\n",
       "    </tr>\n",
       "    <tr>\n",
       "      <th>8</th>\n",
       "      <td>Gold Coast</td>\n",
       "      <td>1364</td>\n",
       "    </tr>\n",
       "    <tr>\n",
       "      <th>9</th>\n",
       "      <td>Sheffield &amp; DePaul</td>\n",
       "      <td>1260</td>\n",
       "    </tr>\n",
       "  </tbody>\n",
       "</table>\n",
       "</div>"
      ],
      "text/plain": [
       "  dropoff_location_name  average_trips\n",
       "0                  Loop          10727\n",
       "1           River North           9524\n",
       "2         Streeterville           6665\n",
       "3             West Loop           5164\n",
       "4                O'Hare           2547\n",
       "5             Lake View           2421\n",
       "6            Grant Park           2069\n",
       "7         Museum Campus           1510\n",
       "8            Gold Coast           1364\n",
       "9    Sheffield & DePaul           1260"
      ]
     },
     "metadata": {},
     "output_type": "display_data"
    }
   ],
   "source": [
    "\n",
    "top_location = trips_info.sort_values(by='average_trips' , ascending = False).reset_index(drop=True)\n",
    "\n",
    "top_location = top_location.head(10)\n",
    "\n",
    "display(top_location)\n"
   ]
  },
  {
   "cell_type": "code",
   "execution_count": null,
   "metadata": {},
   "outputs": [
    {
     "data": {
      "image/png": "[encoded data removed]",
      "text/plain": [
       "<Figure size 1080x432 with 1 Axes>"
      ]
     },
     "metadata": {
      "needs_background": "light"
     },
     "output_type": "display_data"
    }
   ],
   "source": [
    "# Se crea gráfico de barras para ver a detalle la diferencia entre los destinos\n",
    "\n",
    "plt.figure(figsize=(15,6))\n",
    "sns.barplot(x='dropoff_location_name', y='average_trips', data=top_location)\n",
    "plt.title('Promedio de finalizaciones por los 10 principales barrios')\n",
    "plt.xlabel('Promedio de viajes')\n",
    "plt.ylabel('Nombre del Barrio')\n",
    "plt.xticks(rotation=60)\n",
    "plt.show()"
   ]
  },
  {
   "cell_type": "markdown",
   "metadata": {},
   "source": [
    "Loop es el sector que cuenta con un promedio de más de 10000 viajes. Los detinos `Loop, River North, Streetville, West Loop` son los mas popluares, contando con más de 5000 paradas como destino final en la mayoría de los clientes. Esto seguramente se deba a la ubicación de los sitios turísticos en esta área, sectores financiero y de trabajo, lugares de recreación. "
   ]
  },
  {
   "cell_type": "markdown",
   "metadata": {},
   "source": [
    "# Número de viajes por compañía de taxis"
   ]
  },
  {
   "cell_type": "code",
   "execution_count": null,
   "metadata": {},
   "outputs": [
    {
     "name": "stdout",
     "output_type": "stream",
     "text": [
      "       trips_amount\n",
      "count     64.000000\n",
      "mean    2145.484375\n",
      "std     3812.310186\n",
      "min        2.000000\n",
      "25%       20.750000\n",
      "50%      178.500000\n",
      "75%     2106.500000\n",
      "max    19558.000000\n"
     ]
    }
   ],
   "source": [
    "# Empresas de taxis y número de viajes\n",
    "\n",
    "print(company_trips_info.describe())"
   ]
  },
  {
   "cell_type": "markdown",
   "metadata": {},
   "source": [
    "Como antes menciodando, solo el 25% de las empresas alcanza el promedio de la media de viajes. Por lo tanto, veamos de cerca cuales son esas empresas populares y veamos la distribución del rango de las qeu tienen mas viajes en comparación a las que tienen menos. "
   ]
  },
  {
   "cell_type": "code",
   "execution_count": null,
   "metadata": {},
   "outputs": [
    {
     "data": {
      "text/html": [
       "<div>\n",
       "<style scoped>\n",
       "    .dataframe tbody tr th:only-of-type {\n",
       "        vertical-align: middle;\n",
       "    }\n",
       "\n",
       "    .dataframe tbody tr th {\n",
       "        vertical-align: top;\n",
       "    }\n",
       "\n",
       "    .dataframe thead th {\n",
       "        text-align: right;\n",
       "    }\n",
       "</style>\n",
       "<table border=\"1\" class=\"dataframe\">\n",
       "  <thead>\n",
       "    <tr style=\"text-align: right;\">\n",
       "      <th></th>\n",
       "      <th>company_name</th>\n",
       "      <th>trips_amount</th>\n",
       "    </tr>\n",
       "  </thead>\n",
       "  <tbody>\n",
       "    <tr>\n",
       "      <th>0</th>\n",
       "      <td>Flash Cab</td>\n",
       "      <td>19558</td>\n",
       "    </tr>\n",
       "    <tr>\n",
       "      <th>1</th>\n",
       "      <td>Taxi Affiliation Services</td>\n",
       "      <td>11422</td>\n",
       "    </tr>\n",
       "    <tr>\n",
       "      <th>2</th>\n",
       "      <td>Medallion Leasing</td>\n",
       "      <td>10367</td>\n",
       "    </tr>\n",
       "    <tr>\n",
       "      <th>3</th>\n",
       "      <td>Yellow Cab</td>\n",
       "      <td>9888</td>\n",
       "    </tr>\n",
       "    <tr>\n",
       "      <th>4</th>\n",
       "      <td>Taxi Affiliation Service Yellow</td>\n",
       "      <td>9299</td>\n",
       "    </tr>\n",
       "    <tr>\n",
       "      <th>5</th>\n",
       "      <td>Chicago Carriage Cab Corp</td>\n",
       "      <td>9181</td>\n",
       "    </tr>\n",
       "    <tr>\n",
       "      <th>6</th>\n",
       "      <td>City Service</td>\n",
       "      <td>8448</td>\n",
       "    </tr>\n",
       "    <tr>\n",
       "      <th>7</th>\n",
       "      <td>Sun Taxi</td>\n",
       "      <td>7701</td>\n",
       "    </tr>\n",
       "    <tr>\n",
       "      <th>8</th>\n",
       "      <td>Star North Management LLC</td>\n",
       "      <td>7455</td>\n",
       "    </tr>\n",
       "    <tr>\n",
       "      <th>9</th>\n",
       "      <td>Blue Ribbon Taxi Association Inc.</td>\n",
       "      <td>5953</td>\n",
       "    </tr>\n",
       "    <tr>\n",
       "      <th>10</th>\n",
       "      <td>Choice Taxi Association</td>\n",
       "      <td>5015</td>\n",
       "    </tr>\n",
       "    <tr>\n",
       "      <th>11</th>\n",
       "      <td>Globe Taxi</td>\n",
       "      <td>4383</td>\n",
       "    </tr>\n",
       "    <tr>\n",
       "      <th>12</th>\n",
       "      <td>Dispatch Taxi Affiliation</td>\n",
       "      <td>3355</td>\n",
       "    </tr>\n",
       "    <tr>\n",
       "      <th>13</th>\n",
       "      <td>Nova Taxi Affiliation Llc</td>\n",
       "      <td>3175</td>\n",
       "    </tr>\n",
       "    <tr>\n",
       "      <th>14</th>\n",
       "      <td>Patriot Taxi Dba Peace Taxi Association</td>\n",
       "      <td>2235</td>\n",
       "    </tr>\n",
       "    <tr>\n",
       "      <th>15</th>\n",
       "      <td>Checker Taxi Affiliation</td>\n",
       "      <td>2216</td>\n",
       "    </tr>\n",
       "    <tr>\n",
       "      <th>16</th>\n",
       "      <td>Blue Diamond</td>\n",
       "      <td>2070</td>\n",
       "    </tr>\n",
       "    <tr>\n",
       "      <th>17</th>\n",
       "      <td>Chicago Medallion Management</td>\n",
       "      <td>1955</td>\n",
       "    </tr>\n",
       "    <tr>\n",
       "      <th>18</th>\n",
       "      <td>24 Seven Taxi</td>\n",
       "      <td>1775</td>\n",
       "    </tr>\n",
       "    <tr>\n",
       "      <th>19</th>\n",
       "      <td>Chicago Medallion Leasing INC</td>\n",
       "      <td>1607</td>\n",
       "    </tr>\n",
       "    <tr>\n",
       "      <th>20</th>\n",
       "      <td>Checker Taxi</td>\n",
       "      <td>1486</td>\n",
       "    </tr>\n",
       "    <tr>\n",
       "      <th>21</th>\n",
       "      <td>American United</td>\n",
       "      <td>1404</td>\n",
       "    </tr>\n",
       "    <tr>\n",
       "      <th>22</th>\n",
       "      <td>Chicago Independents</td>\n",
       "      <td>1296</td>\n",
       "    </tr>\n",
       "    <tr>\n",
       "      <th>23</th>\n",
       "      <td>KOAM Taxi Association</td>\n",
       "      <td>1259</td>\n",
       "    </tr>\n",
       "    <tr>\n",
       "      <th>24</th>\n",
       "      <td>Chicago Taxicab</td>\n",
       "      <td>1014</td>\n",
       "    </tr>\n",
       "    <tr>\n",
       "      <th>25</th>\n",
       "      <td>Top Cab Affiliation</td>\n",
       "      <td>978</td>\n",
       "    </tr>\n",
       "    <tr>\n",
       "      <th>26</th>\n",
       "      <td>Gold Coast Taxi</td>\n",
       "      <td>428</td>\n",
       "    </tr>\n",
       "    <tr>\n",
       "      <th>27</th>\n",
       "      <td>Service Taxi Association</td>\n",
       "      <td>402</td>\n",
       "    </tr>\n",
       "    <tr>\n",
       "      <th>28</th>\n",
       "      <td>5 Star Taxi</td>\n",
       "      <td>310</td>\n",
       "    </tr>\n",
       "    <tr>\n",
       "      <th>29</th>\n",
       "      <td>303 Taxi</td>\n",
       "      <td>250</td>\n",
       "    </tr>\n",
       "  </tbody>\n",
       "</table>\n",
       "</div>"
      ],
      "text/plain": [
       "                               company_name  trips_amount\n",
       "0                                 Flash Cab         19558\n",
       "1                 Taxi Affiliation Services         11422\n",
       "2                         Medallion Leasing         10367\n",
       "3                                Yellow Cab          9888\n",
       "4           Taxi Affiliation Service Yellow          9299\n",
       "5                 Chicago Carriage Cab Corp          9181\n",
       "6                              City Service          8448\n",
       "7                                  Sun Taxi          7701\n",
       "8                 Star North Management LLC          7455\n",
       "9         Blue Ribbon Taxi Association Inc.          5953\n",
       "10                  Choice Taxi Association          5015\n",
       "11                               Globe Taxi          4383\n",
       "12                Dispatch Taxi Affiliation          3355\n",
       "13                Nova Taxi Affiliation Llc          3175\n",
       "14  Patriot Taxi Dba Peace Taxi Association          2235\n",
       "15                 Checker Taxi Affiliation          2216\n",
       "16                             Blue Diamond          2070\n",
       "17             Chicago Medallion Management          1955\n",
       "18                            24 Seven Taxi          1775\n",
       "19            Chicago Medallion Leasing INC          1607\n",
       "20                             Checker Taxi          1486\n",
       "21                          American United          1404\n",
       "22                     Chicago Independents          1296\n",
       "23                    KOAM Taxi Association          1259\n",
       "24                          Chicago Taxicab          1014\n",
       "25                      Top Cab Affiliation           978\n",
       "26                          Gold Coast Taxi           428\n",
       "27                 Service Taxi Association           402\n",
       "28                              5 Star Taxi           310\n",
       "29                                 303 Taxi           250"
      ]
     },
     "metadata": {},
     "output_type": "display_data"
    }
   ],
   "source": [
    "top_companies = company_trips_info.sort_values(by='trips_amount' , ascending = False).reset_index(drop=True)\n",
    "\n",
    "display(top_companies.head(30))"
   ]
  },
  {
   "cell_type": "markdown",
   "metadata": {},
   "source": [
    "Podemos ver que la diferencia de viajes entre cada compañía se vuelve mas homogenea a partir los 1000 viajes entre compañía y compañía. Por lo tanto filtraremos el estudio de información a contar de la compañías que tengan mas de 1000 viajes."
   ]
  },
  {
   "cell_type": "code",
   "execution_count": null,
   "metadata": {},
   "outputs": [
    {
     "data": {
      "text/html": [
       "<div>\n",
       "<style scoped>\n",
       "    .dataframe tbody tr th:only-of-type {\n",
       "        vertical-align: middle;\n",
       "    }\n",
       "\n",
       "    .dataframe tbody tr th {\n",
       "        vertical-align: top;\n",
       "    }\n",
       "\n",
       "    .dataframe thead th {\n",
       "        text-align: right;\n",
       "    }\n",
       "</style>\n",
       "<table border=\"1\" class=\"dataframe\">\n",
       "  <thead>\n",
       "    <tr style=\"text-align: right;\">\n",
       "      <th></th>\n",
       "      <th>company_name</th>\n",
       "      <th>trips_amount</th>\n",
       "    </tr>\n",
       "  </thead>\n",
       "  <tbody>\n",
       "    <tr>\n",
       "      <th>0</th>\n",
       "      <td>Flash Cab</td>\n",
       "      <td>19558</td>\n",
       "    </tr>\n",
       "    <tr>\n",
       "      <th>1</th>\n",
       "      <td>Taxi Affiliation Services</td>\n",
       "      <td>11422</td>\n",
       "    </tr>\n",
       "    <tr>\n",
       "      <th>2</th>\n",
       "      <td>Medallion Leasing</td>\n",
       "      <td>10367</td>\n",
       "    </tr>\n",
       "  </tbody>\n",
       "</table>\n",
       "</div>"
      ],
      "text/plain": [
       "                company_name  trips_amount\n",
       "0                  Flash Cab         19558\n",
       "1  Taxi Affiliation Services         11422\n",
       "2          Medallion Leasing         10367"
      ]
     },
     "metadata": {},
     "output_type": "display_data"
    }
   ],
   "source": [
    "# Se crea df filtrado con más de 1000 viajes\n",
    "\n",
    "comp_1k = company_trips_info[company_trips_info['trips_amount'] > 1000]\n",
    "\n",
    "display(comp_1k.head(3))"
   ]
  },
  {
   "cell_type": "markdown",
   "metadata": {},
   "source": [
    " Veamos a escala la diferencia entre estas empresas creando un gráfico de barras con las compañías que tienen mas de 1000 viajes `comp_1k`"
   ]
  },
  {
   "cell_type": "code",
   "execution_count": null,
   "metadata": {
    "scrolled": false
   },
   "outputs": [
    {
     "data": {
      "image/png": "[encoded data removed]",
      "text/plain": [
       "<Figure size 1152x864 with 1 Axes>"
      ]
     },
     "metadata": {
      "needs_background": "light"
     },
     "output_type": "display_data"
    }
   ],
   "source": [
    "plt.figure(figsize=(16, 12))\n",
    "sns.barplot(x='company_name', y='trips_amount', data=comp_1k)\n",
    "plt.title('Número de viajes por empresa de taxis', fontsize=20)\n",
    "plt.xlabel('Compañía', fontsize=16)\n",
    "plt.ylabel('Número de viajes', fontsize=16)\n",
    "plt.xticks(rotation=60)  \n",
    "plt.show()"
   ]
  },
  {
   "cell_type": "markdown",
   "metadata": {},
   "source": [
    "De está compilación de viajes hecha entre el 15 y 16 de Noviembre, la compañia `Flash Cab` es por lejos las mas común y popular del mercado. En esta extracción obtuvo 19558 viajes. Se puede decir que es la mas popular para el uso cotidiano de la pobalción en Chicago, nisiquiera el segundo puesto (`Taxi Affiliation Services`) alcanza el 70% de lo viajes que representa `Flash Cab`.\n",
    "\n",
    "Indiferentemente de ello, podemos notar un sub grupo de las empreasas mas populares, en el cuál podemos ver un rango desde ~7500 a ~11000 viajes. Se puede decir que `Flash Cab, Taxi Affliation Services, Medallion Leasing Yellow Cab, Taxi Afilliation Service Yellow, Chicago Carriage Cab Corp, City Service y Sun Taxi` son las empresas mas populares en la ciudad, y las demas su popularidad se puede basar más según el sector. "
   ]
  },
  {
   "cell_type": "markdown",
   "metadata": {},
   "source": [
    "# Prueba de Hipotesis"
   ]
  },
  {
   "cell_type": "markdown",
   "metadata": {},
   "source": [
    "# Hipótesis: la duración promedio de los viajes desde el Loop hasta el Aeropuerto Internacional O'Hare cambia los sábados lluviosos"
   ]
  },
  {
   "cell_type": "markdown",
   "metadata": {},
   "source": [
    "\n",
    "Se ha sugerido que la duración promedio de los viajes del Loop al Aeropuerto Internacional O'Hare varía en los sábados lluviosos. Utilizando nuestro conjunto de datos weather_trips, que incluye la duración de los viajes y el estado del clima (Bueno o Malo) para los sábados de noviembre de 2017, investigaremos esta idea. Los datos están en el formato adecuado, con duplicados mantenidos ya que no tenemos la certeza de que sean errores y viajes de duración irregular eliminados."
   ]
  },
  {
   "cell_type": "markdown",
   "metadata": {},
   "source": [
    "Primero que todo, para poder evaluar nuestra hipotesis, separaremos los datos del df `weather_trips` según la columna `weather_conditions`. Recordemos que el clima fue categorizado por 2 opciones; 'good' , 'bad'. "
   ]
  },
  {
   "cell_type": "code",
   "execution_count": null,
   "metadata": {},
   "outputs": [],
   "source": [
    "# Se crean datasets separando los viajes según su condición climática \n",
    "\n",
    "bad_saturdays = weather_trips[(weather_trips['start_ts'].dt.dayofweek == 5) & (weather_trips['weather_conditions'] == 'Bad')]\n",
    "good_saturdays = weather_trips[(weather_trips['start_ts'].dt.dayofweek == 5) & (weather_trips['weather_conditions'] == 'Good')]"
   ]
  },
  {
   "cell_type": "markdown",
   "metadata": {},
   "source": [
    "Comprobemos la distribución de cada muestra:\n",
    "\n",
    "\n",
    "  - `Distribución Similar`:  Realizaremos el test de Kolmogorov-Smirnov para comparar dos muestras con un nivel de significancia de 0.05. La hipótesis nula sugiere que las distribuciones son similares, mientras que la alternativa indica lo contrario. Si el valor p es mayor a 0.05, no podemos rechazar la hipótesis nula, lo que sugiere similitud en las distribuciones. Si es menor a 0.05, aceptaremos la hipótesis alternativa. Utilizaremos la función ks_2samp de scipy para este propósito.\n",
    "\n",
    "\n",
    " - `Distrubución Normal`: utilizaremos el test normalidad de Shapiro-Wilk con un nivel de significancia de 0.05, si el valor p es superior a 0.05 se acepta nuestra hipótesis nula y las muestras siguen una distribución normal, y si el valor p es inferior a 0.05, se rechaza la hipótesis nula y las muestras no presentan normalidad \n",
    "    "
   ]
  },
  {
   "cell_type": "code",
   "execution_count": null,
   "metadata": {},
   "outputs": [
    {
     "name": "stdout",
     "output_type": "stream",
     "text": [
      "pvalue: 1.827954589444427e-14\n",
      "Distribuciones diferentes\n"
     ]
    }
   ],
   "source": [
    "#Distribución similar \n",
    "\n",
    "good = good_saturdays['duration_seconds']\n",
    "bad =  bad_saturdays['duration_seconds']\n",
    "\n",
    "alpha = 0.05\n",
    "\n",
    "\n",
    "results = st.ks_2samp(good,bad)\n",
    "\n",
    "print('pvalue:' , results.pvalue)\n",
    "\n",
    "if results.pvalue < alpha: \n",
    "    print('Distribuciones diferentes')\n",
    "else:\n",
    "    print('Distribuciones similares')"
   ]
  },
  {
   "cell_type": "code",
   "execution_count": null,
   "metadata": {},
   "outputs": [
    {
     "name": "stdout",
     "output_type": "stream",
     "text": [
      "pvalue good_saturdays: 8.819712425479925e-25\n",
      "Rechazamos la hipótesis nula: no hay normalidad\n",
      "\n",
      "\n",
      "pvalue bad_saturdays: 0.00037975297891534865\n",
      "Rechazamos la hipótesis nula: no hay normalidad\n"
     ]
    }
   ],
   "source": [
    "#Distribución Normales\n",
    "\n",
    "good = good_saturdays['duration_seconds']\n",
    "bad =  bad_saturdays['duration_seconds']\n",
    "\n",
    "alpha = 0.05\n",
    "\n",
    "results_good = shapiro(good)\n",
    "\n",
    "print('pvalue good_saturdays:', results_good.pvalue)\n",
    "\n",
    "if results_good.pvalue < alpha:\n",
    "    print(\"Rechazamos la hipótesis nula: no hay normalidad\")\n",
    "else:\n",
    "    print(\"No rechazamos la hipótesis nula: distribución normal\")\n",
    "\n",
    "    \n",
    "\n",
    "print()\n",
    "print()\n",
    "\n",
    "results_bad = shapiro(bad)\n",
    "\n",
    "print('pvalue bad_saturdays:' , results_bad.pvalue)\n",
    "\n",
    "if results_bad.pvalue < alpha:\n",
    "     print(\"Rechazamos la hipótesis nula: no hay normalidad\")\n",
    "else:\n",
    "    print(\"No rechazamos la hipótesis nula: distribución normal\")\n"
   ]
  },
  {
   "cell_type": "markdown",
   "metadata": {},
   "source": [
    "\n",
    "Antes de iniciar nuestra prueba de hipótesis, necesitamos asegurarnos de que nuestras muestras, que no tienen distribuciones similares ni son normalmente distribuidas, tengan varianzas comparables. Para ello, emplearemos el test de Levene con un nivel de significancia de 0.05. Si el valor p es mayor que 0.05, indicará que las varianzas son similares entre las muestras. Por el contrario, si es menor, señalará diferencias en las varianzas. Utilizaremos el parámetro center=median en el test de Levene, ya que previamente determinamos que las muestras no siguen una distribución normal mediante el test de Shapiro."
   ]
  },
  {
   "cell_type": "code",
   "execution_count": null,
   "metadata": {},
   "outputs": [
    {
     "name": "stdout",
     "output_type": "stream",
     "text": [
      "Varianza duración de viajes good_saturdays: 546281.00446281\n",
      "Varianza duración de viajes bad_saturdays: 480136.0546963767\n"
     ]
    }
   ],
   "source": [
    "print('Varianza duración de viajes good_saturdays:', np.var(good_saturdays['duration_seconds']))\n",
    "print('Varianza duración de viajes bad_saturdays:', np.var(bad_saturdays['duration_seconds']))"
   ]
  },
  {
   "cell_type": "code",
   "execution_count": null,
   "metadata": {},
   "outputs": [
    {
     "name": "stdout",
     "output_type": "stream",
     "text": [
      "pvalue: 0.4248043185773904\n",
      "No rechazamos la hipótesis nula: varianzas iguales\n"
     ]
    }
   ],
   "source": [
    "# Prueba de igualdad en Varianzas\n",
    "\n",
    "good = good_saturdays['duration_seconds']\n",
    "bad = bad_saturdays['duration_seconds']\n",
    "alpha = 0.05\n",
    "\n",
    "results = levene(good, bad, center='median')\n",
    "\n",
    "print('pvalue:', results.pvalue)\n",
    "\n",
    "if results.pvalue < alpha:\n",
    "    print(\"Rechazamos la hipótesis nula: varianzas diferentes\")\n",
    "else:\n",
    "    print(\"No rechazamos la hipótesis nula: varianzas iguales\")"
   ]
  },
  {
   "cell_type": "markdown",
   "metadata": {},
   "source": [
    "Ya que trabajaremos con muestras con distribuciones diferentes y sin normalidad, plantearemos nuestras hipótesis nula y alternativa.\n",
    "\n",
    "`H0`: La duración promedio de los viajes desde el Loop hasta el Aeropuerto Internacional O'Hare es igual los sábados lluviosos como los sábados con buen clima.\n",
    "\n",
    "`H1`: La duración promedio de los viajes desde el Loop hasta el Aeropuerto Internacional O'Hare cambia los sábados con clima lluvioso o malo.\n",
    "\n",
    "Ahora procederemos con nuestra prueba de hipótesis. Utilizaremos la prueba T-student para determinar si las medias aritméticas de nuestras dos muestras son iguales o no. Este test nos proporcionará un valor p, el cual compararemos con un nivel de significancia de 0.05 (alpha). Si el valor p es menor que alpha, rechazaremos la hipótesis nula en favor de la alternativa; de lo contrario, la aceptaremos.\n",
    "\n",
    "Para realizar esta prueba, emplearemos la función st.ttest_ind de la librería scipy.stats. Esta función requiere como argumentos las dos muestras que estamos comparando: 'good' representará la duración de los viajes en sábados con buen clima, mientras que 'bad' será la duración de los viajes en sábados con clima lluvioso o malo. Estableceremos el argumento equal_var en True, ya que el test de Levene confirmó que las varianzas de las poblaciones son iguales. Finalmente, utilizaremos una estructura condicional if/else para determinar si rechazamos o aceptamos la H0 según el valor de alpha."
   ]
  },
  {
   "cell_type": "code",
   "execution_count": null,
   "metadata": {},
   "outputs": [
    {
     "name": "stdout",
     "output_type": "stream",
     "text": [
      "Resultados de la prueba de hipótesis:\n",
      "Estadístico t: -7.174910067937514\n",
      "----------------------------------\n",
      "Valor p: 1.3603319763146637e-12\n",
      "\n",
      "Se rechaza la hipótesis nula. Hay suficiente evidencia para concluir que la duración promedio de los viajes desde el Loop hasta el Aeropuerto Internacional O'Hare cambia en los sábados lluviosos.\n"
     ]
    }
   ],
   "source": [
    "\n",
    "# Realizar la prueba de hipótesis para la diferencia de medias\n",
    "\n",
    "good = good_saturdays['duration_seconds']\n",
    "bad = bad_saturdays['duration_seconds']\n",
    "\n",
    "alpha = 0.05\n",
    "\n",
    "t_stat, p_value = stats.ttest_ind(good, bad, equal_var=True)\n",
    "\n",
    "# Imprimir los resultados\n",
    "\n",
    "print(\"Resultados de la prueba de hipótesis:\")\n",
    "print(\"Estadístico t:\", t_stat)\n",
    "\n",
    "print('----------------------------------')\n",
    "\n",
    "\n",
    "print(\"Valor p:\", p_value)\n",
    "\n",
    "print()\n",
    "\n",
    "if p_value < alpha:\n",
    "    print(\"Se rechaza la hipótesis nula. Hay suficiente evidencia para concluir que la duración promedio de los viajes desde el Loop hasta el Aeropuerto Internacional O'Hare cambia en los sábados lluviosos.\")\n",
    "else:\n",
    "    print(\"No se rechaza la hipótesis nula. No hay suficiente evidencia para concluir que la duración promedio de los viajes desde el Loop hasta el Aeropuerto Internacional O'Hare cambia en los sábados lluviosos.\")"
   ]
  },
  {
   "cell_type": "markdown",
   "metadata": {},
   "source": [
    "## Conclusiones"
   ]
  },
  {
   "cell_type": "markdown",
   "metadata": {},
   "source": [
    "En el proceso de análisis de datos relacionados con los viajes en taxis en Chicago durante noviembre de 2017, se utilizaron tres conjuntos de datos obtenidos de bases de datos relacionales. Estos conjuntos de datos incluían información sobre el número de viajes por empresa de taxis, el promedio de viajes por barrio y las condiciones meteorológicas durante los viajes los días sábados entre el barrio Loop y el Aeropuerto O'Hare.\n",
    "\n",
    "     - Procesamiento de datos:  \n",
    "     \n",
    "     En el primer conjunto de datos, que contenía el número de viajes por empresa de taxis, no se encontraron valores ausentes ni duplicados, y los tipos de datos fueron adecuados. En el segundo conjunto de datos, que mostraba el promedio de viajes por barrio, tampoco se encontraron valores ausentes ni duplicados, pero se redondearon los valores promedio y se convirtieron a tipo entero. En el tercer conjunto de datos, que incluía información sobre los viajes los días sábados entre el barrio Loop y el Aeropuerto O'Hare, no se registraron valores ausentes, pero se observaron duplicados que se atribuyeron a viajes realizados por taxis de diferentes compañías que comenzaron alrededor de la misma hora. Se mantuvieron estos duplicados, pero se eliminaron los viajes con una duración de cero segundos, que podrían ser viajes cancelados.\n",
    "     \n",
    "     - Análisis de datos:\n",
    "     \n",
    "     En cuanto al análisis exploratorio de datos, se encontró que la empresa de taxis Flash Cab registró el mayor número de viajes los días 15 y 16 de noviembre de 2017, seguida por Taxi Affiliation Services y Medallion Leasing. Esto sugiere que factores como la antigüedad en el mercado podrían influir en estos resultados, por otra parte se vio un sub-grupo que mantenía una medida notable de servicios, destacando la idea de que estas basan su popularidad según el sector. Además, se identificaron los diez barrios principales en términos de finalizaciones de viajes, lo que podría orientar las estrategias de marketing y distribución de unidades para una empresa como Zuber.\n",
    "     \n",
    "     - Prueba de Hipótesis:\n",
    "     \n",
    "     Finalmente, al probar la hipótesis sobre la duración de los viajes entre el barrio Loop y el Aeropuerto O'Hare en días con condiciones climáticas adversas, se encontró que la duración de los viajes aumentaba en estos días. Esto sugiere que el clima puede influir en la demanda de transporte en taxi, lo que tiene implicaciones para empresas como Zuber, que podrían beneficiarse de ofrecer viajes compartidos en días lluviosos para hacer frente al aumento del tráfico vehicular."
   ]
  }
 ],
 "metadata": {
  "kernelspec": {
   "display_name": "Python 3 (ipykernel)",
   "language": "python",
   "name": "python3"
  },
  "language_info": {
   "codemirror_mode": {
    "name": "ipython",
    "version": 3
   },
   "file_extension": ".py",
   "mimetype": "text/x-python",
   "name": "python",
   "nbconvert_exporter": "python",
   "pygments_lexer": "ipython3",
   "version": "3.9.19"
  },
  "toc": {
   "base_numbering": 1,
   "nav_menu": {
    "height": "50.9766px",
    "width": "159.984px"
   },
   "number_sections": true,
   "sideBar": true,
   "skip_h1_title": true,
   "title_cell": "Table of Contents",
   "title_sidebar": "Contents",
   "toc_cell": false,
   "toc_position": {
    "height": "calc(100% - 180px)",
    "left": "10px",
    "top": "150px",
    "width": "231.375px"
   },
   "toc_section_display": true,
   "toc_window_display": true
  }
 },
 "nbformat": 4,
 "nbformat_minor": 2
}
